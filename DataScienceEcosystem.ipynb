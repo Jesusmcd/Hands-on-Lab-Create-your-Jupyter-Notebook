{
 "cells": [
  {
   "cell_type": "markdown",
   "id": "a8241432-1203-46db-9f98-900293ce3fd8",
   "metadata": {
    "tags": []
   },
   "source": [
    "# Data Science Tools and Ecosystem"
   ]
  },
  {
   "cell_type": "markdown",
   "id": "337abe20-e856-461c-ab84-f70a34af8031",
   "metadata": {},
   "source": [
    "In this notebook, Data Science Tools and Ecosystem are summarized."
   ]
  },
  {
   "cell_type": "markdown",
   "id": "7874ca6d-97a0-4cae-ab84-9e6b97dc4bf6",
   "metadata": {},
   "source": [
    "**Objectives**\n",
    "\n",
    "\n",
    "- List popular languages for Data Science\n",
    "- List popular libraries for Data Science\n",
    "- List popular tools for Data Science\n",
    "- Provide examples of arithmetic expressions in Python\n"
   ]
  },
  {
   "cell_type": "markdown",
   "id": "a3f3fa1e-2663-4a18-b44f-057aaa19d36d",
   "metadata": {},
   "source": [
    "Some of the popular languages that Data Scientists use are:\n",
    "\n",
    "1. Python\n",
    "2. R\n",
    "3. Excel"
   ]
  },
  {
   "cell_type": "markdown",
   "id": "e4c7a5a7-91bd-4ddc-a2c2-5dac789b32d2",
   "metadata": {},
   "source": [
    "Some of the popular libraries that Data Scientists use are:\n",
    "\n",
    "1. Numpy\n",
    "2. Matplotlib\n",
    "3. Pandas"
   ]
  },
  {
   "cell_type": "markdown",
   "id": "5b437d5a-6507-4013-8985-657c89349c82",
   "metadata": {},
   "source": [
    "|Data Science tools|\n",
    "|------------------|\n",
    "|Rstudio|\n",
    "|Jupyter Notebook|\n",
    "|Google Colab|"
   ]
  },
  {
   "cell_type": "markdown",
   "id": "65186a91-2c3b-4fef-a6ac-7497fe48898f",
   "metadata": {},
   "source": [
    "### Below are a few examples of evaluating arithmetic expressions in Python"
   ]
  },
  {
   "cell_type": "markdown",
   "id": "312fe085-06e4-4fb6-89fd-c0d252e31e43",
   "metadata": {
    "tags": []
   },
   "source": [
    "This a simple arithmetic expression to mutiply then add integers.\n",
    "\n",
    "(3*4)+5"
   ]
  },
  {
   "cell_type": "code",
   "execution_count": 3,
   "id": "f5dbf5ac-6629-4dc1-9477-e972175d120a",
   "metadata": {
    "tags": []
   },
   "outputs": [
    {
     "data": {
      "text/plain": [
       "17"
      ]
     },
     "execution_count": 3,
     "metadata": {},
     "output_type": "execute_result"
    }
   ],
   "source": [
    "(3*4)+5"
   ]
  },
  {
   "cell_type": "markdown",
   "id": "c5fa0d3c-b010-4c1c-86d6-3f790d346d09",
   "metadata": {
    "tags": []
   },
   "source": [
    "This will convert 200 minutes to hours by dividing by 60\n",
    "\n",
    "200/60"
   ]
  },
  {
   "cell_type": "code",
   "execution_count": 5,
   "id": "2888e87b-e45f-4b5b-bf17-ab74cb1c8240",
   "metadata": {
    "tags": []
   },
   "outputs": [
    {
     "data": {
      "text/plain": [
       "3.3333333333333335"
      ]
     },
     "execution_count": 5,
     "metadata": {},
     "output_type": "execute_result"
    }
   ],
   "source": [
    "200/60"
   ]
  },
  {
   "cell_type": "markdown",
   "id": "c47a1fd9-f438-4f33-a2f4-fe8e4645a954",
   "metadata": {},
   "source": [
    "## Author\n",
    "\n",
    "Jesus Miguel"
   ]
  },
  {
   "cell_type": "code",
   "execution_count": null,
   "id": "e24d84f6-db7c-4e1c-921b-d846bf19f790",
   "metadata": {},
   "outputs": [],
   "source": []
  }
 ],
 "metadata": {
  "kernelspec": {
   "display_name": "Python",
   "language": "python",
   "name": "conda-env-python-py"
  },
  "language_info": {
   "codemirror_mode": {
    "name": "ipython",
    "version": 3
   },
   "file_extension": ".py",
   "mimetype": "text/x-python",
   "name": "python",
   "nbconvert_exporter": "python",
   "pygments_lexer": "ipython3",
   "version": "3.7.12"
  }
 },
 "nbformat": 4,
 "nbformat_minor": 5
}
